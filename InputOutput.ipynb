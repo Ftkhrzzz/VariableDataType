{
 "cells": [
  {
   "cell_type": "code",
   "execution_count": 2,
   "id": "ae0fbb9b",
   "metadata": {
    "scrolled": true
   },
   "outputs": [
    {
     "name": "stdout",
     "output_type": "stream",
     "text": [
      "Isikan Nama AwalRevan\n",
      "Isikan Nama TengahFatkhurezi\n",
      "Isikan Nama AkhirDesviansyah\n",
      "Selamat Datang Revan Fatkhurezi Desviansyah S.Kom\n"
     ]
    }
   ],
   "source": [
    "fname = input('Isikan Nama Awal')\n",
    "mname = input('Isikan Nama Tengah')\n",
    "lname = input('Isikan Nama Akhir')\n",
    "\n",
    "print('Selamat Datang',fname,mname,lname,\"S.Kom\")"
   ]
  },
  {
   "cell_type": "code",
   "execution_count": 4,
   "id": "42a566d8",
   "metadata": {
    "scrolled": true
   },
   "outputs": [
    {
     "name": "stdout",
     "output_type": "stream",
     "text": [
      "Isikan Bilangan 1:7\n",
      "Isikan Bilangan 2:10\n",
      "<class 'str'>\n",
      "Hasil Penjumlahan 17\n"
     ]
    }
   ],
   "source": [
    "bil1 = input('Isikan Bilangan 1:')\n",
    "bil2 = input('Isikan Bilangan 2:')\n",
    "print(type(bil1))\n",
    "hasil = int (bil1) + int (bil2)\n",
    "print('Hasil Penjumlahan', hasil)"
   ]
  },
  {
   "cell_type": "code",
   "execution_count": 8,
   "id": "da2307b8",
   "metadata": {
    "scrolled": true
   },
   "outputs": [
    {
     "name": "stdout",
     "output_type": "stream",
     "text": [
      "Isikan Panjang Persegi14\n",
      "Isikan Lebar Persegi15\n",
      "Luas Persegi Panjang 14\n",
      "Keliling Persegi Panjang 30\n"
     ]
    }
   ],
   "source": [
    "#luas => p * l\n",
    "#keliling => 2 * (p+l)\n",
    "\n",
    "p = input('Isikan Panjang Persegi')\n",
    "l= input('Isikan Lebar Persegi')\n",
    "\n",
    "luas = int(p) * int(1)\n",
    "keliling = 2 * (int(p) + int(1))\n",
    "\n",
    "print('Luas Persegi Panjang',luas)\n",
    "print('Keliling Persegi Panjang',keliling)"
   ]
  },
  {
   "cell_type": "code",
   "execution_count": 9,
   "id": "ca2a2ab9",
   "metadata": {
    "scrolled": false
   },
   "outputs": [
    {
     "name": "stdout",
     "output_type": "stream",
     "text": [
      "Senin@Selasa@Rabu@Kamis@Jumat@Sabtu@Minggu^-^one\n",
      "Two\n",
      "Three\n",
      "Four\n"
     ]
    }
   ],
   "source": [
    "print(\"Senin\",\"Selasa\",\"Rabu\",\"Kamis\",\"Jumat\",\"Sabtu\",\"Minggu\",sep=\"@\",end=\"^-^\")\n",
    "print(\"one\",\"Two\",\"Three\",\"Four\",sep=\"\\n\")"
   ]
  },
  {
   "cell_type": "code",
   "execution_count": 10,
   "id": "d2169227",
   "metadata": {},
   "outputs": [
    {
     "name": "stdout",
     "output_type": "stream",
     "text": [
      "Perkalian 7 dengan 10 adalah 70\n"
     ]
    }
   ],
   "source": [
    "number1 = 7\n",
    "number2 = 10\n",
    "\n",
    "# Hasil perkalian 7 dengan 10 adalah 70\n",
    "print(\"Perkalian {} dengan {} adalah {}\".format(number1,number2,number1 * number2))"
   ]
  },
  {
   "cell_type": "code",
   "execution_count": 12,
   "id": "ad2f2ca6",
   "metadata": {},
   "outputs": [
    {
     "name": "stdout",
     "output_type": "stream",
     "text": [
      "Urutan Huruf CBA\n"
     ]
    }
   ],
   "source": [
    "first_letter = \"A\"\n",
    "middle_letter = \"B\"\n",
    "last_letter = \"C\"\n",
    "\n",
    "print(\"Urutan Huruf {2}{1}{0}\".format(first_letter,middle_letter,last_letter))"
   ]
  },
  {
   "cell_type": "code",
   "execution_count": 17,
   "id": "caf8bfd7",
   "metadata": {},
   "outputs": [
    {
     "name": "stdout",
     "output_type": "stream",
     "text": [
      "Sekarang tanggal 20 bulan maret tahun 2024\n"
     ]
    }
   ],
   "source": [
    "# Sekarang tanggal 20 Bulan Maret Tahun 2024\n",
    "print(\"Sekarang tanggal {tanggal} bulan {bulan} tahun {tahun}\".format(tanggal = 20,bulan=\"maret\",tahun=2024))"
   ]
  },
  {
   "cell_type": "code",
   "execution_count": 20,
   "id": "f1dd7020",
   "metadata": {},
   "outputs": [
    {
     "name": "stdout",
     "output_type": "stream",
     "text": [
      "Huruf pertama adalah: U\n",
      "Huruf Terakhir adalah: a\n",
      "Huruf Range 0-10: Universitas\n",
      "Putra\n",
      "Nusa Putra\n",
      "artuP asuN satisrevinU\n"
     ]
    }
   ],
   "source": [
    "kampus = \"Universitas Nusa Putra\"\n",
    "print(\"Huruf pertama adalah:\",kampus[0])\n",
    "print(\"Huruf Terakhir adalah:\",kampus[-1])\n",
    "print(\"Huruf Range 0-10:\",kampus[0:11])\n",
    "print(kampus[-5:])\n",
    "print(kampus[12:])\n",
    "#Reverse String\n",
    "print(kampus[::-1])"
   ]
  },
  {
   "cell_type": "code",
   "execution_count": 2,
   "id": "ac6117a4",
   "metadata": {},
   "outputs": [
    {
     "name": "stdout",
     "output_type": "stream",
     "text": [
      "['Jakarta', 'Sukabumi', 'Malang', 'Bandung', 'Surabaya']\n",
      "Jakarta\n",
      "Jakarta@Sukabumi@Malang@Bandung@Surabaya\n"
     ]
    }
   ],
   "source": [
    "#Split => String -> List\n",
    "kota = \"Jakarta Sukabumi Malang Bandung Surabaya\"\n",
    "list_kota = kota.split()\n",
    "print(list_kota)\n",
    "print(list_kota[0])\n",
    "#join -> List -> String\n",
    "join_kota = \"@\".join(list_kota)\n",
    "print(join_kota)"
   ]
  },
  {
   "cell_type": "code",
   "execution_count": 9,
   "id": "b05eba51",
   "metadata": {},
   "outputs": [
    {
     "name": "stdout",
     "output_type": "stream",
     "text": [
      "Isikan Nama Anda:Revan Fatkhurezi\n",
      "Isikan Tanggal Lahir:30/12/1945\n",
      "Nama Awal : Revan\n",
      "Nama Akhir : Fatkhurezi\n",
      "Nama Inisial : RF\n"
     ]
    }
   ],
   "source": [
    "# Isikan nama : Revan Fatkhurezi\n",
    "# Isikan tanggal lahir : 30/12/1945\n",
    "# Output :\n",
    "# Nama awal : Revan\n",
    "# Nama akhir : Fatkhurezi\n",
    "# Tgl Lahir : 30\n",
    "# Bulan lahir : 12\n",
    "# Tahun Lahir : 1945\n",
    "# Nama Inisial : RF\n",
    "\n",
    "nama = input(\"Isikan Nama Anda:\")\n",
    "tgl = input(\"Isikan Tanggal Lahir:\")\n",
    "\n",
    "list_nama = nama.split()\n",
    "print(\"Nama Awal :\", list_nama[0])\n",
    "print(\"Nama Akhir :\", list_nama[1])\n",
    "print(\"Nama Inisial :\", list_nama[0][0] + list_nama[1][0])"
   ]
  }
 ],
 "metadata": {
  "kernelspec": {
   "display_name": "Python 3 (ipykernel)",
   "language": "python",
   "name": "python3"
  },
  "language_info": {
   "codemirror_mode": {
    "name": "ipython",
    "version": 3
   },
   "file_extension": ".py",
   "mimetype": "text/x-python",
   "name": "python",
   "nbconvert_exporter": "python",
   "pygments_lexer": "ipython3",
   "version": "3.9.12"
  }
 },
 "nbformat": 4,
 "nbformat_minor": 5
}
