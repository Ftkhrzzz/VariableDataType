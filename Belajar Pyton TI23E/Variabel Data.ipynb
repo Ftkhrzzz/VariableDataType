{
 "cells": [
  {
   "cell_type": "markdown",
   "id": "983125ca",
   "metadata": {},
   "source": [
    "<h1>Belajar Variabel dan Tipe Data</h1><hr>\n",
    "Tipe data di pyton yaitu <b>Integer, Float, Boolean, String, Complex</b>"
   ]
  },
  {
   "cell_type": "code",
   "execution_count": 3,
   "id": "2a139cde",
   "metadata": {},
   "outputs": [
    {
     "name": "stdout",
     "output_type": "stream",
     "text": [
      "100\n",
      "<class 'int'>\n"
     ]
    }
   ],
   "source": [
    "data_integer = 100\n",
    "data_integer\n",
    "print(data_integer)\n",
    "print(type(data_integer))"
   ]
  },
  {
   "cell_type": "code",
   "execution_count": 4,
   "id": "d106c1fb",
   "metadata": {},
   "outputs": [
    {
     "name": "stdout",
     "output_type": "stream",
     "text": [
      "100.5\n",
      "<class 'float'>\n"
     ]
    }
   ],
   "source": [
    "data_float = 100.5\n",
    "print(data_float)\n",
    "print(type(data_float))"
   ]
  },
  {
   "cell_type": "code",
   "execution_count": 12,
   "id": "ac873411",
   "metadata": {},
   "outputs": [
    {
     "name": "stdout",
     "output_type": "stream",
     "text": [
      "True\n",
      "<class 'bool'>\n"
     ]
    }
   ],
   "source": [
    "data_boolean = True\n",
    "print(data_boolean)\n",
    "print(type(data_boolean))"
   ]
  },
  {
   "cell_type": "code",
   "execution_count": 22,
   "id": "a5c40e94",
   "metadata": {},
   "outputs": [
    {
     "name": "stdout",
     "output_type": "stream",
     "text": [
      "100\n",
      "<class 'str'>\n"
     ]
    }
   ],
   "source": [
    "data_string = \"100\"\n",
    "print(data_string)\n",
    "print(type(data_string))"
   ]
  },
  {
   "cell_type": "code",
   "execution_count": 10,
   "id": "e88858e3",
   "metadata": {},
   "outputs": [
    {
     "name": "stdout",
     "output_type": "stream",
     "text": [
      "(5+6j)\n",
      "<class 'complex'>\n"
     ]
    }
   ],
   "source": [
    "data_complex = complex(5,6)\n",
    "print(data_complex)\n",
    "print(type(data_complex))"
   ]
  },
  {
   "cell_type": "markdown",
   "id": "fc72a75c",
   "metadata": {},
   "source": [
    "<h2>Casting</h2><hr>\n",
    "<font color=\"blue\">Casting</font> adalah teknik memancing ikan <br>\n",
    "<ol>\n",
    "    <li>Sintak casting menggunakan (tipe data)</li>\n",
    "    <li>Casting dapat dilakukan di sungai</li>\n",
    "</ol>"
   ]
  },
  {
   "cell_type": "code",
   "execution_count": 17,
   "id": "ca2e4461",
   "metadata": {},
   "outputs": [
    {
     "name": "stdout",
     "output_type": "stream",
     "text": [
      "100\n",
      "100.0\n",
      "True\n",
      "<class 'str'>\n",
      "<class 'float'>\n",
      "<class 'bool'>\n"
     ]
    }
   ],
   "source": [
    "int_to_string = str(data_integer)\n",
    "int_to_float = float(data_integer)\n",
    "int_to_boolean = bool(data_integer)\n",
    "\n",
    "print(int_to_string)\n",
    "print(int_to_float)\n",
    "print(int_to_boolean)\n",
    "\n",
    "print(type(int_to_string))\n",
    "print(type(int_to_float))\n",
    "print(type(int_to_boolean))"
   ]
  },
  {
   "cell_type": "code",
   "execution_count": 23,
   "id": "c63bf18a",
   "metadata": {},
   "outputs": [
    {
     "name": "stdout",
     "output_type": "stream",
     "text": [
      "100\n",
      "100.0\n",
      "True\n",
      "<class 'int'>\n",
      "<class 'float'>\n",
      "<class 'bool'>\n"
     ]
    }
   ],
   "source": [
    "str_to_integer = int(data_string)\n",
    "str_to_float = float(data_string)\n",
    "str_to_boolean = bool(data_string)\n",
    "\n",
    "print(str_to_integer)\n",
    "print(str_to_float)\n",
    "print(str_to_boolean)\n",
    "\n",
    "print(type(str_to_integer))\n",
    "print(type(str_to_float))\n",
    "print(type(str_to_boolean))"
   ]
  },
  {
   "cell_type": "code",
   "execution_count": null,
   "id": "badd8c3c",
   "metadata": {},
   "outputs": [],
   "source": []
  }
 ],
 "metadata": {
  "kernelspec": {
   "display_name": "Python 3 (ipykernel)",
   "language": "python",
   "name": "python3"
  },
  "language_info": {
   "codemirror_mode": {
    "name": "ipython",
    "version": 3
   },
   "file_extension": ".py",
   "mimetype": "text/x-python",
   "name": "python",
   "nbconvert_exporter": "python",
   "pygments_lexer": "ipython3",
   "version": "3.9.12"
  }
 },
 "nbformat": 4,
 "nbformat_minor": 5
}
